{
 "cells": [
  {
   "cell_type": "code",
   "execution_count": 1,
   "id": "c19cf920",
   "metadata": {},
   "outputs": [
    {
     "name": "stdout",
     "output_type": "stream",
     "text": [
      "helloworld\n"
     ]
    }
   ],
   "source": [
    "print(\"helloworld\")\n"
   ]
  },
  {
   "cell_type": "code",
   "execution_count": 4,
   "id": "1dea75c3",
   "metadata": {},
   "outputs": [
    {
     "name": "stdout",
     "output_type": "stream",
     "text": [
      "Twinkle Twinkle, little star, \n",
      "                  How I Wonder what you are\n",
      "                          Up above the world so high,\n",
      "                          like a diamond in the sky.\n",
      "        Twinkle, twinkle, little star,\n",
      "                  How I wonder what you are\n"
     ]
    }
   ],
   "source": [
    "print (\"\"\"Twinkle Twinkle, little star, \n",
    "                  How I Wonder what you are\n",
    "                          Up above the world so high,\n",
    "                          like a diamond in the sky.\n",
    "        Twinkle, twinkle, little star,\n",
    "                  How I wonder what you are\"\"\")"
   ]
  },
  {
   "cell_type": "code",
   "execution_count": 1,
   "id": "98d78e9e",
   "metadata": {},
   "outputs": [
    {
     "name": "stdout",
     "output_type": "stream",
     "text": [
      "Python 3.8.12\n"
     ]
    }
   ],
   "source": [
    "! python --version\n"
   ]
  },
  {
   "cell_type": "markdown",
   "id": "bcab25af",
   "metadata": {},
   "source": []
  },
  {
   "cell_type": "code",
   "execution_count": null,
   "id": "9da64f6f",
   "metadata": {},
   "outputs": [],
   "source": [
    "x= input(\"Input your first name: \")\n",
    "y= input(\"input your last name\")\n",
    "print (\"Hello \"+lname+ \"\" + fname)"
   ]
  },
  {
   "cell_type": "code",
   "execution_count": 1,
   "id": "6ebe37eb",
   "metadata": {},
   "outputs": [
    {
     "name": "stdout",
     "output_type": "stream",
     "text": [
      "15\n"
     ]
    }
   ],
   "source": [
    "a=5\n",
    "b=10\n",
    "c=a+b\n",
    "print (c)"
   ]
  },
  {
   "cell_type": "code",
   "execution_count": 1,
   "id": "981efc7f",
   "metadata": {},
   "outputs": [
    {
     "name": "stdout",
     "output_type": "stream",
     "text": [
      "Current date and time : \n",
      "2021-12-31 23:55:48\n"
     ]
    }
   ],
   "source": [
    "import datetime\n",
    "now = datetime.datetime.now()\n",
    "print (\"Current date and time : \")\n",
    "print (now.strftime(\"%Y-%m-%d %H:%M:%S\"))\n"
   ]
  },
  {
   "cell_type": "code",
   "execution_count": 6,
   "id": "be92080c",
   "metadata": {},
   "outputs": [
    {
     "name": "stdout",
     "output_type": "stream",
     "text": [
      "current date and time:\n",
      "22-01-01 00:01:19\n"
     ]
    }
   ],
   "source": [
    "import datetime\n",
    "now = datetime.datetime.now()\n",
    "print (\"current date and time:\")\n",
    "print (now.strftime(\"%y-%m-%d %H:%M:%S\"))"
   ]
  },
  {
   "cell_type": "code",
   "execution_count": 7,
   "id": "0837a259",
   "metadata": {},
   "outputs": [
    {
     "name": "stdout",
     "output_type": "stream",
     "text": [
      "2022-01-01 00:13:08.104679\n"
     ]
    }
   ],
   "source": [
    "import datetime\n",
    "now = datetime.datetime.now()\n",
    "print(now)"
   ]
  },
  {
   "cell_type": "code",
   "execution_count": 8,
   "id": "fd16e7ce",
   "metadata": {},
   "outputs": [
    {
     "name": "stdout",
     "output_type": "stream",
     "text": [
      "anas\n"
     ]
    }
   ],
   "source": [
    "a=\"anas\"\n",
    "print(a)"
   ]
  },
  {
   "cell_type": "code",
   "execution_count": 9,
   "id": "338d08d2",
   "metadata": {},
   "outputs": [
    {
     "name": "stdout",
     "output_type": "stream",
     "text": [
      "<module 'datetime' from 'C:\\\\Users\\\\Computer World\\\\.conda\\\\envs\\\\Anas\\\\lib\\\\datetime.py'>\n"
     ]
    }
   ],
   "source": [
    "a=(datetime)\n",
    "print(a\n",
    "     )"
   ]
  },
  {
   "cell_type": "code",
   "execution_count": 13,
   "id": "27706ddc",
   "metadata": {},
   "outputs": [
    {
     "name": "stdout",
     "output_type": "stream",
     "text": [
      "2022-01-01 00:16:23.697401\n"
     ]
    }
   ],
   "source": [
    "import datetime\n",
    "print(datetime.datetime.now(\n",
    "))"
   ]
  },
  {
   "cell_type": "code",
   "execution_count": 24,
   "id": "bd795a36",
   "metadata": {},
   "outputs": [
    {
     "name": "stdout",
     "output_type": "stream",
     "text": [
      "2022-01-01 00:26:12.538667\n"
     ]
    }
   ],
   "source": [
    "import datetime\n",
    "print (datetime.datetime.now())"
   ]
  },
  {
   "cell_type": "code",
   "execution_count": 25,
   "id": "d600daaf",
   "metadata": {},
   "outputs": [
    {
     "name": "stdout",
     "output_type": "stream",
     "text": [
      "2022\n"
     ]
    }
   ],
   "source": [
    "import datetime\n",
    "print (datetime.datetime.now().year)"
   ]
  },
  {
   "cell_type": "code",
   "execution_count": 26,
   "id": "93fa5301",
   "metadata": {},
   "outputs": [
    {
     "name": "stdout",
     "output_type": "stream",
     "text": [
      "2022-01-01 00:28:49.925940\n"
     ]
    }
   ],
   "source": [
    "import datetime\n",
    "print (datetime.datetime.now()\n",
    "      )"
   ]
  },
  {
   "cell_type": "code",
   "execution_count": 28,
   "id": "97cfe720",
   "metadata": {},
   "outputs": [
    {
     "name": "stdout",
     "output_type": "stream",
     "text": [
      "29\n"
     ]
    }
   ],
   "source": [
    "import datetime\n",
    "print (datetime.datetime.now().minute)"
   ]
  },
  {
   "cell_type": "code",
   "execution_count": 36,
   "id": "36d0fb20",
   "metadata": {},
   "outputs": [
    {
     "name": "stdout",
     "output_type": "stream",
     "text": [
      "32\n"
     ]
    }
   ],
   "source": [
    "import datetime\n",
    "print (datetime.datetime.now().minute)"
   ]
  },
  {
   "cell_type": "code",
   "execution_count": 51,
   "id": "415b9440",
   "metadata": {},
   "outputs": [
    {
     "name": "stdout",
     "output_type": "stream",
     "text": [
      "2022-01-01\n"
     ]
    }
   ],
   "source": [
    "import datetime\n",
    "now = datetime.date.today()\n",
    "print(now)"
   ]
  },
  {
   "cell_type": "code",
   "execution_count": 3,
   "id": "07fdac60",
   "metadata": {},
   "outputs": [
    {
     "name": "stdout",
     "output_type": "stream",
     "text": [
      "what is your first name?\n",
      "anas\n",
      "what is your last name?\n",
      "raza\n",
      "raza anas\n"
     ]
    }
   ],
   "source": [
    "print (\"what is your first name?\")\n",
    "f=input()\n",
    "print (\"what is your last name?\")\n",
    "l=input()\n",
    "print (l+\" \"+f)"
   ]
  },
  {
   "cell_type": "code",
   "execution_count": 4,
   "id": "07b08c45",
   "metadata": {},
   "outputs": [
    {
     "name": "stdout",
     "output_type": "stream",
     "text": [
      "1\n",
      "2\n",
      "3.0\n"
     ]
    }
   ],
   "source": [
    "a=input()\n",
    "b=input()\n",
    "c=float(a)+float(b)\n",
    "print(c)"
   ]
  },
  {
   "cell_type": "code",
   "execution_count": 9,
   "id": "fa98ac7d",
   "metadata": {},
   "outputs": [
    {
     "name": "stdout",
     "output_type": "stream",
     "text": [
      "enter the radius of the circle5\n",
      "area of circle= 31.400000000000002\n"
     ]
    }
   ],
   "source": [
    "radius=int(input(\"enter the radius of the circle\"))\n",
    "area=3.14*radius*2\n",
    "print (\"area of circle=\",area)"
   ]
  },
  {
   "cell_type": "raw",
   "id": "41ab7f2c",
   "metadata": {},
   "source": [
    "pi=(3.14)\n",
    "r=input()\n",
    "a=float(pi)*float(r)*float(r)\n",
    "print(a)"
   ]
  },
  {
   "cell_type": "code",
   "execution_count": 10,
   "id": "be2ddc3b",
   "metadata": {},
   "outputs": [
    {
     "name": "stdout",
     "output_type": "stream",
     "text": [
      "10\n",
      "314.0\n"
     ]
    }
   ],
   "source": [
    "pi=(3.14)\n",
    "r=input()\n",
    "a=float(pi)*float(r)*float(r)\n",
    "print(a)"
   ]
  },
  {
   "cell_type": "code",
   "execution_count": 11,
   "id": "88901779",
   "metadata": {},
   "outputs": [
    {
     "name": "stdout",
     "output_type": "stream",
     "text": [
      "10\n",
      "The are of the circle is  314.0\n"
     ]
    }
   ],
   "source": [
    "pi=(3.14)\n",
    "r=input()\n",
    "a=float(pi)*float(r)*float(r)\n",
    "print(\"The are of the circle is \", a)"
   ]
  },
  {
   "cell_type": "code",
   "execution_count": 12,
   "id": "88a99f80",
   "metadata": {},
   "outputs": [
    {
     "name": "stdout",
     "output_type": "stream",
     "text": [
      "10\n",
      "The are of the circle is  314.0\n"
     ]
    }
   ],
   "source": [
    "pi=(3.14)\n",
    "r=input()\n",
    "a=float(pi)*float(r)*float(r)\n",
    "print(\"The are of the circle is \",a)"
   ]
  },
  {
   "cell_type": "code",
   "execution_count": 13,
   "id": "7d767594",
   "metadata": {},
   "outputs": [
    {
     "name": "stdout",
     "output_type": "stream",
     "text": [
      "10\n",
      "The are of the circle is 314.0\n"
     ]
    }
   ],
   "source": [
    "pi=(3.14)\n",
    "r=input()\n",
    "a=float(pi)*float(r)*float(r)\n",
    "print(\"The are of the circle is\",a)"
   ]
  },
  {
   "cell_type": "code",
   "execution_count": 14,
   "id": "0aa70d2c",
   "metadata": {},
   "outputs": [
    {
     "name": "stdout",
     "output_type": "stream",
     "text": [
      "3.14\n"
     ]
    }
   ],
   "source": [
    "import math\n",
    "print(pi)"
   ]
  },
  {
   "cell_type": "code",
   "execution_count": 20,
   "id": "5c489071",
   "metadata": {},
   "outputs": [
    {
     "name": "stdout",
     "output_type": "stream",
     "text": [
      "Please enter the radius of the cirlce10\n",
      "314.0\n"
     ]
    }
   ],
   "source": [
    "import math\n",
    "r=input(\"Please enter the radius of the cirlce\")\n",
    "a=float(pi)*float(r)*float(r)\n",
    "print(a)"
   ]
  }
 ],
 "metadata": {
  "kernelspec": {
   "display_name": "Python 3 (ipykernel)",
   "language": "python",
   "name": "python3"
  },
  "language_info": {
   "codemirror_mode": {
    "name": "ipython",
    "version": 3
   },
   "file_extension": ".py",
   "mimetype": "text/x-python",
   "name": "python",
   "nbconvert_exporter": "python",
   "pygments_lexer": "ipython3",
   "version": "3.8.12"
  }
 },
 "nbformat": 4,
 "nbformat_minor": 5
}
